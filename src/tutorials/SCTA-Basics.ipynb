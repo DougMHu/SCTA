{
 "cells": [
  {
   "cell_type": "markdown",
   "metadata": {
    "toc": "true"
   },
   "source": [
    "# Table of Contents\n",
    " <p><div class=\"lev1 toc-item\"><a href=\"#What-is-SCTA?\" data-toc-modified-id=\"What-is-SCTA?-1\"><span class=\"toc-item-num\">1&nbsp;&nbsp;</span>What is SCTA?</a></div><div class=\"lev1 toc-item\"><a href=\"#Installing-the-SCTA-libraries\" data-toc-modified-id=\"Installing-the-SCTA-libraries-2\"><span class=\"toc-item-num\">2&nbsp;&nbsp;</span>Installing the SCTA libraries</a></div><div class=\"lev1 toc-item\"><a href=\"#Importing-SCTA-libraries\" data-toc-modified-id=\"Importing-SCTA-libraries-3\"><span class=\"toc-item-num\">3&nbsp;&nbsp;</span>Importing SCTA libraries</a></div><div class=\"lev1 toc-item\"><a href=\"#Trasponders\" data-toc-modified-id=\"Trasponders-4\"><span class=\"toc-item-num\">4&nbsp;&nbsp;</span>Trasponders</a></div><div class=\"lev1 toc-item\"><a href=\"#Equipment\" data-toc-modified-id=\"Equipment-5\"><span class=\"toc-item-num\">5&nbsp;&nbsp;</span>Equipment</a></div><div class=\"lev1 toc-item\"><a href=\"#Logging-Data\" data-toc-modified-id=\"Logging-Data-6\"><span class=\"toc-item-num\">6&nbsp;&nbsp;</span>Logging Data</a></div><div class=\"lev1 toc-item\"><a href=\"#Automating-a-Test\" data-toc-modified-id=\"Automating-a-Test-7\"><span class=\"toc-item-num\">7&nbsp;&nbsp;</span>Automating a Test</a></div><div class=\"lev1 toc-item\"><a href=\"#Congratulations!\" data-toc-modified-id=\"Congratulations!-8\"><span class=\"toc-item-num\">8&nbsp;&nbsp;</span>Congratulations!</a></div>"
   ]
  },
  {
   "cell_type": "markdown",
   "metadata": {},
   "source": [
    "# What is SCTA?"
   ]
  },
  {
   "cell_type": "markdown",
   "metadata": {},
   "source": [
    "__SCTA__ stands for:\n",
    "\n",
    "__S__atellite, and\n",
    "\n",
    "__C__ommunications \n",
    "\n",
    "__T__est \n",
    "\n",
    "__A__utomation.\n",
    "\n",
    "It is a Python library for controlling the RF lab equipment and collecting measurements for later analysis. You can use these libraries to write your very own test automation script! Or you can use them to control the equipment real-time, as we will demo in this Jupyter Notebook."
   ]
  },
  {
   "cell_type": "markdown",
   "metadata": {},
   "source": [
    "# Installing the SCTA libraries"
   ]
  },
  {
   "cell_type": "markdown",
   "metadata": {},
   "source": [
    "The full installation instructions can be found [here](file://10.23.121.10/amclab_share/SCTA/SCTA_repo/docs/_build/html/Installation.html).\n",
    "\n",
    "However, this Jupyter notebook should be running remotely on a computer that already has the SCTA libraries installed. So you can just focus on the fun part :)"
   ]
  },
  {
   "cell_type": "markdown",
   "metadata": {},
   "source": [
    "# Importing SCTA libraries"
   ]
  },
  {
   "cell_type": "markdown",
   "metadata": {},
   "source": [
    "Import the SCTA libraries the same way you import any other Python library. If you just want to simulate an automation script, simply uncomment the ``import RunAsSimulation`` statement below. (For example, if you are not currently connected to any RF test equipment, or if you have not installed PyVISA.)"
   ]
  },
  {
   "cell_type": "code",
   "execution_count": 1,
   "metadata": {
    "collapsed": false
   },
   "outputs": [],
   "source": [
    "import SCTA\n",
    "#from SCTA.Simulation import RunAsSimulation"
   ]
  },
  {
   "cell_type": "markdown",
   "metadata": {},
   "source": [
    "View the available classes you can import. In this tutorial, we will focus on __``Transponder``__, __``SFU``__, __``FSW``__, and __``DataLogger``__."
   ]
  },
  {
   "cell_type": "code",
   "execution_count": 2,
   "metadata": {
    "collapsed": false
   },
   "outputs": [
    {
     "name": "stdout",
     "output_type": "stream",
     "text": [
      "SCTA.DataLogging\n",
      "SCTA.DataLogging.DataLogger\n",
      "SCTA.DataLogging.LogManager\n",
      "SCTA.Instrumentation\n",
      "SCTA.Instrumentation.AIM2_Rev0\n",
      "SCTA.Instrumentation.BTC\n",
      "SCTA.Instrumentation.Comm\n",
      "SCTA.Instrumentation.Demodulator\n",
      "SCTA.Instrumentation.FSQ\n",
      "SCTA.Instrumentation.FSW\n",
      "SCTA.Instrumentation.Fastbit\n",
      "SCTA.Instrumentation.Fireberd\n",
      "SCTA.Instrumentation.MDM6100\n",
      "SCTA.Instrumentation.Modulator\n",
      "SCTA.Instrumentation.PyvisaShellComm\n",
      "SCTA.Instrumentation.ResourceManagers\n",
      "SCTA.Instrumentation.SFU\n",
      "SCTA.Instrumentation.SLG\n",
      "SCTA.Instrumentation.SNMPComm\n",
      "SCTA.Instrumentation.SSHComm\n",
      "SCTA.Instrumentation.TelnetComm\n",
      "SCTA.Instrumentation.VTM\n",
      "SCTA.Instrumentation.VTR\n",
      "SCTA.Instrumentation.VTR_EV\n",
      "SCTA.Simulation\n",
      "SCTA.Simulation.Parameters\n",
      "SCTA.Simulation.RunAsSimulation\n",
      "SCTA.Specs\n",
      "SCTA.Specs.AMC_Spec\n",
      "SCTA.System\n",
      "SCTA.System.LocalOscillator\n",
      "SCTA.System.Mode\n",
      "SCTA.System.Transponder\n",
      "SCTA.utils\n",
      "SCTA.utils.dougStatsKit\n",
      "SCTA.utils.fileparse\n",
      "SCTA.utils.misc\n",
      "SCTA.utils.stringconvert\n"
     ]
    }
   ],
   "source": [
    "import pkgutil\n",
    "package = SCTA\n",
    "for importer, modname, ispkg in pkgutil.walk_packages(path=package.__path__,\n",
    "                                                      prefix=package.__name__+'.',\n",
    "                                                      onerror=lambda x: None):\n",
    "    print(modname)"
   ]
  },
  {
   "cell_type": "markdown",
   "metadata": {},
   "source": [
    "# Trasponders"
   ]
  },
  {
   "cell_type": "markdown",
   "metadata": {},
   "source": [
    "Let's create a new variable of type ``Transponder``:"
   ]
  },
  {
   "cell_type": "code",
   "execution_count": 3,
   "metadata": {
    "collapsed": false
   },
   "outputs": [
    {
     "data": {
      "text/plain": [
       "Transponder({'mode': Mode({'mod': 'QPSK', 'fec': '2/3', 'bcstd': 'DIRECTV'}), 'roll': 20.0, 'id': 'txp', 'symb': 20000000.0, 'freq': 1074000000.0, 'pilots': True, 'scramb': 0})"
      ]
     },
     "execution_count": 3,
     "metadata": {},
     "output_type": "execute_result"
    }
   ],
   "source": [
    "txp = SCTA.System.Transponder(mode=1)\n",
    "txp"
   ]
  },
  {
   "cell_type": "markdown",
   "metadata": {},
   "source": [
    "As you see above, a ``Transponder`` object stores parameters that are important for tuning to a DirecTV satellite transponder.\n",
    "\n",
    "You can change the object's parameters by calling its __set methods__. You can read the object's parameters by calling its __get methods__.\n",
    "\n",
    "To see a list of its method's, hit the ``Tab`` key at the end of line below."
   ]
  },
  {
   "cell_type": "code",
   "execution_count": null,
   "metadata": {
    "collapsed": true
   },
   "outputs": [],
   "source": [
    "txp."
   ]
  },
  {
   "cell_type": "markdown",
   "metadata": {},
   "source": [
    "For example, let's change the transponder frequency (Hz) using the __``setFrequency``__ method:"
   ]
  },
  {
   "cell_type": "code",
   "execution_count": 4,
   "metadata": {
    "collapsed": true
   },
   "outputs": [],
   "source": [
    "txp.setFrequency(974e6)"
   ]
  },
  {
   "cell_type": "markdown",
   "metadata": {},
   "source": [
    "Then we can read the frequency value using the __``getFrequency``__ method:"
   ]
  },
  {
   "cell_type": "code",
   "execution_count": 5,
   "metadata": {
    "collapsed": false
   },
   "outputs": [
    {
     "data": {
      "text/plain": [
       "974000000.0"
      ]
     },
     "execution_count": 5,
     "metadata": {},
     "output_type": "execute_result"
    }
   ],
   "source": [
    "txp.getFrequency()"
   ]
  },
  {
   "cell_type": "markdown",
   "metadata": {},
   "source": [
    "You can do the same with broadcast standard, constellation, and code rate individually.\n",
    "\n",
    "But if you know what AMC Mode number you want, use __``setMode``__ instead:"
   ]
  },
  {
   "cell_type": "code",
   "execution_count": 6,
   "metadata": {
    "collapsed": false
   },
   "outputs": [
    {
     "name": "stdout",
     "output_type": "stream",
     "text": [
      "DVB-S2\n",
      "8PSK\n",
      "2/3\n"
     ]
    }
   ],
   "source": [
    "txp.setMode(12)\n",
    "print(txp.getBroadcastStandard())\n",
    "print(txp.getConstellation())\n",
    "print(txp.getCodeRate())"
   ]
  },
  {
   "cell_type": "markdown",
   "metadata": {},
   "source": [
    "# Equipment"
   ]
  },
  {
   "cell_type": "markdown",
   "metadata": {},
   "source": [
    "In this tutorial, we will focus on two pieces of lab equipment. Let's create two objects of type __``SFU``__ and __``FSW``__.\n",
    "\n",
    "To initialize the SFU and FSW, we specify the ``type`` of connection and the ``port`` number. In this case, the SFU and FSW are connected to our computer via Ethernet with the following IP addresses:"
   ]
  },
  {
   "cell_type": "code",
   "execution_count": 7,
   "metadata": {
    "collapsed": false
   },
   "outputs": [
    {
     "name": "stderr",
     "output_type": "stream",
     "text": [
      "DVB-S2 needs to be enabled before setting scrambling code\n"
     ]
    }
   ],
   "source": [
    "sfu = SCTA.Instrumentation.SFU(type=\"IP\", port=\"192.168.88.246\")\n",
    "fsw = SCTA.Instrumentation.FSW(type=\"IP\", port=\"192.168.88.248\")"
   ]
  },
  {
   "cell_type": "markdown",
   "metadata": {},
   "source": [
    "The SFU and FSW have all of the same set/get methods of Transponder. They even have a __``setTransponder``__ method that configures all the parameters for you in one line!"
   ]
  },
  {
   "cell_type": "code",
   "execution_count": 8,
   "metadata": {
    "collapsed": true
   },
   "outputs": [],
   "source": [
    "sfu.setTransponder(txp)\n",
    "fsw.setTransponder(txp)"
   ]
  },
  {
   "cell_type": "markdown",
   "metadata": {},
   "source": [
    "After configuring the SFU transponder parameters, you can use other methods to control the signal generation.\n",
    "\n",
    "For example, an SFU object lets you set the output power (dBm) and CNR (dB). If you want to set the CNR, make sure to enable the AWGN beforehand:"
   ]
  },
  {
   "cell_type": "code",
   "execution_count": 9,
   "metadata": {
    "collapsed": true
   },
   "outputs": [],
   "source": [
    "sfu.setPower(-45)\n",
    "sfu.setNoiseState(\"ADD\") # AWGN can be OFF, ADD (Both Tx and AWGN are ON), or ONLY (AWGN is ON, Tx is OFF)\n",
    "sfu.setNoiseLevel(10)"
   ]
  },
  {
   "cell_type": "markdown",
   "metadata": {},
   "source": [
    "An FSW object lets you measure power (dBm) and MER (dB). It can also measure channel power and CNR through its Spectrum Analyzer mode, but here we show it reading power and MER through its Vector Signal Analyzer mode:"
   ]
  },
  {
   "cell_type": "code",
   "execution_count": 10,
   "metadata": {
    "collapsed": false
   },
   "outputs": [
    {
     "name": "stdout",
     "output_type": "stream",
     "text": [
      "-45.8372802734\n",
      "33.9397468567\n"
     ]
    }
   ],
   "source": [
    "print(fsw.getVSAChannelPower())\n",
    "print(fsw.getMER())"
   ]
  },
  {
   "cell_type": "markdown",
   "metadata": {},
   "source": [
    "Hopefully, the FSW measured power and MER matched the SFU output power and CNR! To see a list of other methods you can use, hit the ``Tab`` key at the end of each line below:"
   ]
  },
  {
   "cell_type": "code",
   "execution_count": null,
   "metadata": {
    "collapsed": true
   },
   "outputs": [],
   "source": [
    "sfu.\n",
    "fsw."
   ]
  },
  {
   "cell_type": "markdown",
   "metadata": {},
   "source": [
    "# Logging Data"
   ]
  },
  {
   "cell_type": "markdown",
   "metadata": {},
   "source": [
    "To log measurements to a CSV file, we specify the __``filename``__ and __``csv_header``__ that we want to see in the first line:"
   ]
  },
  {
   "cell_type": "code",
   "execution_count": 11,
   "metadata": {
    "collapsed": true
   },
   "outputs": [],
   "source": [
    "filename = \"tutorial\"\n",
    "csv_header = ['Frequency (Hz)', 'SFU Power (dBm)', 'FSW Power (dBm)']"
   ]
  },
  {
   "cell_type": "markdown",
   "metadata": {},
   "source": [
    "We pass these as input to a __``DataLogger``__ object. \n",
    "\n",
    "By creating a DataLogger, it will create a file \"tutorial.csv\" and write the header in the first line. You can check this by opening the file via the Jupyter file browser."
   ]
  },
  {
   "cell_type": "code",
   "execution_count": 12,
   "metadata": {
    "collapsed": false
   },
   "outputs": [],
   "source": [
    "logger = SCTA.DataLogging.DataLogger(filename=filename, format='csv', csv_header=csv_header)"
   ]
  },
  {
   "cell_type": "markdown",
   "metadata": {},
   "source": [
    "Use the __``push``__ method to write new lines to the CSV file for each new sample measurement.\n",
    "\n",
    "Every sample should be a list of measurements that correspond to the header you created earlier. For example:"
   ]
  },
  {
   "cell_type": "code",
   "execution_count": 13,
   "metadata": {
    "collapsed": true
   },
   "outputs": [],
   "source": [
    "# Measure channel power\n",
    "freq = fsw.getFrequency()\n",
    "sfu_pwr = sfu.getPower()\n",
    "fsw_pwr = fsw.getVSAChannelPower()\n",
    "\n",
    "# Write list of measurements to CSV file\n",
    "sample = [freq, sfu_pwr, fsw_pwr]\n",
    "logger.push(sample)"
   ]
  },
  {
   "cell_type": "markdown",
   "metadata": {},
   "source": [
    "You can check that the CSV file should now have a second line containing the measurements we pushed. A timestamp is added automatically."
   ]
  },
  {
   "cell_type": "markdown",
   "metadata": {},
   "source": [
    "# Automating a Test"
   ]
  },
  {
   "cell_type": "markdown",
   "metadata": {},
   "source": [
    "Here's a simply __for loop__ that takes power measurements across several frequencies. This forms the foundation of all our autmoation scripts!"
   ]
  },
  {
   "cell_type": "code",
   "execution_count": 14,
   "metadata": {
    "collapsed": true
   },
   "outputs": [],
   "source": [
    "low_freq = int(270e6) # start at 270 MHz\n",
    "hi_freq = int(2130e6) # end at 2130 MHz\n",
    "step_freq = int(20e6) # in 20 MHz intervals\n",
    "freqs = list(range(low_freq, hi_freq+1, step_freq)) # create the list of frequencies to sweep\n",
    "\n",
    "for freq in freqs:\n",
    "    sfu.setFrequency(freq) # change the SFU center frequency\n",
    "    fsw.setFrequency(freq) # tune FSW to new center frequency\n",
    "    fsw_pwr = fsw.getVSAChannelPower() # measure FSW power\n",
    "    sample = [freq, sfu_pwr, fsw_pwr] # create a list of measurements\n",
    "    logger.push(sample) # push the sample to CSV file"
   ]
  },
  {
   "cell_type": "markdown",
   "metadata": {},
   "source": [
    "Check the CSV file to see if the measurements make sense!"
   ]
  },
  {
   "cell_type": "markdown",
   "metadata": {},
   "source": [
    "# Congratulations!\n",
    "\n",
    "You are on your way to automating lots of RF tests for us :)"
   ]
  }
 ],
 "metadata": {
  "anaconda-cloud": {},
  "hide_input": false,
  "kernelspec": {
   "display_name": "Python [conda env:SCTA-dev]",
   "language": "python",
   "name": "conda-env-SCTA-dev-py"
  },
  "language_info": {
   "codemirror_mode": {
    "name": "ipython",
    "version": 3
   },
   "file_extension": ".py",
   "mimetype": "text/x-python",
   "name": "python",
   "nbconvert_exporter": "python",
   "pygments_lexer": "ipython3",
   "version": "3.5.2"
  },
  "toc": {
   "colors": {
    "hover_highlight": "#DAA520",
    "running_highlight": "#FF0000",
    "selected_highlight": "#FFD700"
   },
   "moveMenuLeft": true,
   "nav_menu": {
    "height": "48px",
    "width": "252px"
   },
   "navigate_menu": true,
   "number_sections": true,
   "sideBar": true,
   "threshold": 4,
   "toc_cell": true,
   "toc_section_display": "block",
   "toc_window_display": false
  }
 },
 "nbformat": 4,
 "nbformat_minor": 1
}
